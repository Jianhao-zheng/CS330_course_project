{
 "cells": [
  {
   "cell_type": "code",
   "execution_count": 1,
   "metadata": {},
   "outputs": [],
   "source": [
    "import random\n",
    "import cv2\n",
    "import time\n",
    "import argparse\n",
    "import copy\n",
    "\n",
    "import metaworld\n",
    "import matplotlib.pyplot as plt\n",
    "import numpy as np\n",
    "import d3rlpy\n",
    "\n",
    "from data_collection.random_sample import visualize, END_ITER_KEY"
   ]
  },
  {
   "cell_type": "code",
   "execution_count": 2,
   "metadata": {},
   "outputs": [],
   "source": [
    "%load_ext autoreload\n",
    "%autoreload 2\n",
    "%matplotlib inline"
   ]
  },
  {
   "cell_type": "code",
   "execution_count": 3,
   "metadata": {},
   "outputs": [],
   "source": [
    "ml1 = metaworld.ML1(\"pick-place-v2\")\n",
    "env = ml1.train_classes[\"pick-place-v2\"]()\n",
    "env.set_task(ml1.train_tasks[0])\n",
    "\n",
    "eval_env = ml1.train_classes[\"pick-place-v2\"](render_mode=\"rgb_array\")\n",
    "eval_env.set_task(ml1.train_tasks[0])\n",
    "eval_env.max_path_length = 500"
   ]
  },
  {
   "cell_type": "code",
   "execution_count": 4,
   "metadata": {},
   "outputs": [
    {
     "name": "stdout",
     "output_type": "stream",
     "text": [
      "\u001b[2m2023-11-10 00:56:25\u001b[0m [\u001b[32m\u001b[1minfo     \u001b[0m] \u001b[1mSignatures have been automatically determined.\u001b[0m \u001b[36maction_signature\u001b[0m=\u001b[35mSignature(dtype=[dtype('float64')], shape=[(4,)])\u001b[0m \u001b[36mobservation_signature\u001b[0m=\u001b[35mSignature(dtype=[dtype('float64')], shape=[(39,)])\u001b[0m \u001b[36mreward_signature\u001b[0m=\u001b[35mSignature(dtype=[dtype('float32')], shape=[[1]])\u001b[0m\n",
      "\u001b[2m2023-11-10 00:56:25\u001b[0m [\u001b[32m\u001b[1minfo     \u001b[0m] \u001b[1mAction-space has been automatically determined.\u001b[0m \u001b[36maction_space\u001b[0m=\u001b[35m<ActionSpace.CONTINUOUS: 1>\u001b[0m\n",
      "\u001b[2m2023-11-10 00:56:25\u001b[0m [\u001b[32m\u001b[1minfo     \u001b[0m] \u001b[1mAction size has been automatically determined.\u001b[0m \u001b[36maction_size\u001b[0m=\u001b[35m4\u001b[0m\n"
     ]
    }
   ],
   "source": [
    "td3 = d3rlpy.algos.TD3Config().create(device='cpu')\n",
    "explorer = d3rlpy.algos.ConstantEpsilonGreedy(epsilon=0.3)\n",
    "buffer = d3rlpy.dataset.create_fifo_replay_buffer(limit=50000, env=env)"
   ]
  },
  {
   "cell_type": "code",
   "execution_count": 5,
   "metadata": {},
   "outputs": [
    {
     "name": "stdout",
     "output_type": "stream",
     "text": [
      "\u001b[2m2023-11-10 00:56:25\u001b[0m [\u001b[32m\u001b[1minfo     \u001b[0m] \u001b[1mDirectory is created at d3rlpy_logs/TD3_online_20231110005625\u001b[0m\n",
      "\u001b[2m2023-11-10 00:56:25\u001b[0m [\u001b[32m\u001b[1mdebug    \u001b[0m] \u001b[1mBuilding model...\u001b[0m\n",
      "\u001b[2m2023-11-10 00:56:25\u001b[0m [\u001b[32m\u001b[1mdebug    \u001b[0m] \u001b[1mModel has been built.\u001b[0m\n",
      "\u001b[2m2023-11-10 00:56:25\u001b[0m [\u001b[32m\u001b[1minfo     \u001b[0m] \u001b[1mParameters                    \u001b[0m \u001b[36mparams\u001b[0m=\u001b[35m{'observation_shape': [39], 'action_size': 4, 'config': {'type': 'td3', 'params': {'batch_size': 256, 'gamma': 0.99, 'observation_scaler': {'type': 'none', 'params': {}}, 'action_scaler': {'type': 'none', 'params': {}}, 'reward_scaler': {'type': 'none', 'params': {}}, 'actor_learning_rate': 0.0003, 'critic_learning_rate': 0.0003, 'actor_optim_factory': {'type': 'adam', 'params': {'betas': [0.9, 0.999], 'eps': 1e-08, 'weight_decay': 0, 'amsgrad': False}}, 'critic_optim_factory': {'type': 'adam', 'params': {'betas': [0.9, 0.999], 'eps': 1e-08, 'weight_decay': 0, 'amsgrad': False}}, 'actor_encoder_factory': {'type': 'default', 'params': {'activation': 'relu', 'use_batch_norm': False, 'dropout_rate': None}}, 'critic_encoder_factory': {'type': 'default', 'params': {'activation': 'relu', 'use_batch_norm': False, 'dropout_rate': None}}, 'q_func_factory': {'type': 'mean', 'params': {'share_encoder': False}}, 'tau': 0.005, 'n_critics': 2, 'target_smoothing_sigma': 0.2, 'target_smoothing_clip': 0.5, 'update_actor_interval': 2}}}\u001b[0m\n"
     ]
    },
    {
     "data": {
      "application/vnd.jupyter.widget-view+json": {
       "model_id": "7d92cd5ba3464f1397c7d3c6fce73255",
       "version_major": 2,
       "version_minor": 0
      },
      "text/plain": [
       "  0%|          | 0/5000 [00:00<?, ?it/s]"
      ]
     },
     "metadata": {},
     "output_type": "display_data"
    },
    {
     "name": "stdout",
     "output_type": "stream",
     "text": [
      "\u001b[2m2023-11-10 00:56:36\u001b[0m [\u001b[32m\u001b[1minfo     \u001b[0m] \u001b[1mModel parameters are saved to d3rlpy_logs/TD3_online_20231110005625/model_1000.d3\u001b[0m\n",
      "\u001b[2m2023-11-10 00:56:36\u001b[0m [\u001b[32m\u001b[1minfo     \u001b[0m] \u001b[1mTD3_online_20231110005625: epoch=1 step=1000\u001b[0m \u001b[36mepoch\u001b[0m=\u001b[35m1\u001b[0m \u001b[36mmetrics\u001b[0m=\u001b[35m{'time_inference': 0.0002105123996734619, 'time_environment_step': 0.0011194000244140626, 'time_step': 0.006263592720031738, 'time_sample_batch': 0.0015679779155418016, 'time_algorithm_update': 0.005029734820729149, 'critic_loss': 6.33268181302383e-05, 'actor_loss': 0.05676862233949284, 'rollout_return': 2.3605031335149107, 'evaluation': 3.255986601212231}\u001b[0m \u001b[36mstep\u001b[0m=\u001b[35m1000\u001b[0m\n",
      "\u001b[2m2023-11-10 00:56:49\u001b[0m [\u001b[32m\u001b[1minfo     \u001b[0m] \u001b[1mModel parameters are saved to d3rlpy_logs/TD3_online_20231110005625/model_2000.d3\u001b[0m\n",
      "\u001b[2m2023-11-10 00:56:49\u001b[0m [\u001b[32m\u001b[1minfo     \u001b[0m] \u001b[1mTD3_online_20231110005625: epoch=2 step=2000\u001b[0m \u001b[36mepoch\u001b[0m=\u001b[35m2\u001b[0m \u001b[36mmetrics\u001b[0m=\u001b[35m{'time_inference': 0.00021330785751342773, 'time_environment_step': 0.0011270804405212403, 'time_sample_batch': 0.0015907621383666993, 'time_algorithm_update': 0.004674025535583496, 'critic_loss': 1.0825207514471913e-05, 'time_step': 0.007638514757156372, 'actor_loss': 0.048387126170098785, 'rollout_return': 2.883077396162512, 'evaluation': 2.990560291058327}\u001b[0m \u001b[36mstep\u001b[0m=\u001b[35m2000\u001b[0m\n",
      "\u001b[2m2023-11-10 00:57:02\u001b[0m [\u001b[32m\u001b[1minfo     \u001b[0m] \u001b[1mModel parameters are saved to d3rlpy_logs/TD3_online_20231110005625/model_3000.d3\u001b[0m\n",
      "\u001b[2m2023-11-10 00:57:02\u001b[0m [\u001b[32m\u001b[1minfo     \u001b[0m] \u001b[1mTD3_online_20231110005625: epoch=3 step=3000\u001b[0m \u001b[36mepoch\u001b[0m=\u001b[35m3\u001b[0m \u001b[36mmetrics\u001b[0m=\u001b[35m{'time_inference': 0.00020791363716125488, 'time_environment_step': 0.0011135377883911132, 'time_sample_batch': 0.0016012125015258788, 'time_algorithm_update': 0.004599344968795776, 'critic_loss': 8.161590300460375e-06, 'time_step': 0.0075546479225158695, 'actor_loss': 0.03600304591283202, 'rollout_return': 2.70297031745742, 'evaluation': 1.3222967547611666}\u001b[0m \u001b[36mstep\u001b[0m=\u001b[35m3000\u001b[0m\n",
      "\u001b[2m2023-11-10 00:57:14\u001b[0m [\u001b[32m\u001b[1minfo     \u001b[0m] \u001b[1mModel parameters are saved to d3rlpy_logs/TD3_online_20231110005625/model_4000.d3\u001b[0m\n",
      "\u001b[2m2023-11-10 00:57:14\u001b[0m [\u001b[32m\u001b[1minfo     \u001b[0m] \u001b[1mTD3_online_20231110005625: epoch=4 step=4000\u001b[0m \u001b[36mepoch\u001b[0m=\u001b[35m4\u001b[0m \u001b[36mmetrics\u001b[0m=\u001b[35m{'time_inference': 0.0002114269733428955, 'time_environment_step': 0.0011251020431518556, 'time_sample_batch': 0.001611250877380371, 'time_algorithm_update': 0.004643305063247681, 'critic_loss': 9.643605399105581e-06, 'time_step': 0.007623937845230103, 'actor_loss': 0.027073386397212743, 'rollout_return': 1.4874214512409365, 'evaluation': 2.138575196903136}\u001b[0m \u001b[36mstep\u001b[0m=\u001b[35m4000\u001b[0m\n",
      "\u001b[2m2023-11-10 00:57:27\u001b[0m [\u001b[32m\u001b[1minfo     \u001b[0m] \u001b[1mModel parameters are saved to d3rlpy_logs/TD3_online_20231110005625/model_5000.d3\u001b[0m\n",
      "\u001b[2m2023-11-10 00:57:27\u001b[0m [\u001b[32m\u001b[1minfo     \u001b[0m] \u001b[1mTD3_online_20231110005625: epoch=5 step=5000\u001b[0m \u001b[36mepoch\u001b[0m=\u001b[35m5\u001b[0m \u001b[36mmetrics\u001b[0m=\u001b[35m{'time_inference': 0.00020084071159362792, 'time_environment_step': 0.001096404552459717, 'time_sample_batch': 0.0016285409927368163, 'time_algorithm_update': 0.004487688302993774, 'critic_loss': 9.70250102409409e-06, 'time_step': 0.00744481086730957, 'actor_loss': 0.02104768774844706, 'rollout_return': 1.7474275050495325, 'evaluation': 2.2735299367359625}\u001b[0m \u001b[36mstep\u001b[0m=\u001b[35m5000\u001b[0m\n"
     ]
    }
   ],
   "source": [
    "td3.fit_online(\n",
    "    env,\n",
    "    buffer,\n",
    "    explorer,\n",
    "    eval_env=eval_env,\n",
    "    n_steps=5000,\n",
    "    n_steps_per_epoch=1000,\n",
    ")"
   ]
  },
  {
   "cell_type": "code",
   "execution_count": 6,
   "metadata": {},
   "outputs": [],
   "source": [
    "truncate = False\n",
    "terminal = False\n",
    "obs, _ = eval_env.reset()\n",
    "visualize(eval_env.render()[:,:,::-1])\n",
    "while not truncate and not terminal:\n",
    "    keystroke = cv2.waitKey(0)\n",
    "    if keystroke == ord(END_ITER_KEY):\n",
    "        break\n",
    "    elif keystroke == ord(\" \"):\n",
    "        action = td3.predict(obs[None, :])[0]\n",
    "        obs, reward, terminal, truncate, info = eval_env.step(action)\n",
    "    visualize(eval_env.render()[:,:,::-1])\n",
    "    if info['success']:\n",
    "        print('the task is successful!')\n",
    "        break\n",
    "cv2.destroyAllWindows()"
   ]
  },
  {
   "cell_type": "code",
   "execution_count": 8,
   "metadata": {},
   "outputs": [
    {
     "data": {
      "text/plain": [
       "array([[[127, 126, 122],\n",
       "        [127, 126, 122],\n",
       "        [127, 126, 122],\n",
       "        ...,\n",
       "        [127, 126, 122],\n",
       "        [127, 126, 122],\n",
       "        [127, 126, 122]],\n",
       "\n",
       "       [[127, 126, 122],\n",
       "        [127, 126, 122],\n",
       "        [127, 126, 122],\n",
       "        ...,\n",
       "        [127, 126, 122],\n",
       "        [127, 126, 122],\n",
       "        [127, 126, 122]],\n",
       "\n",
       "       [[127, 126, 122],\n",
       "        [127, 126, 122],\n",
       "        [127, 126, 122],\n",
       "        ...,\n",
       "        [127, 126, 122],\n",
       "        [127, 126, 122],\n",
       "        [127, 126, 122]],\n",
       "\n",
       "       ...,\n",
       "\n",
       "       [[219, 221, 221],\n",
       "        [220, 221, 221],\n",
       "        [221, 221, 221],\n",
       "        ...,\n",
       "        [215, 216, 216],\n",
       "        [216, 216, 216],\n",
       "        [217, 218, 218]],\n",
       "\n",
       "       [[222, 222, 222],\n",
       "        [223, 223, 223],\n",
       "        [224, 225, 224],\n",
       "        ...,\n",
       "        [212, 214, 214],\n",
       "        [214, 215, 215],\n",
       "        [216, 216, 216]],\n",
       "\n",
       "       [[224, 224, 224],\n",
       "        [224, 224, 224],\n",
       "        [224, 224, 224],\n",
       "        ...,\n",
       "        [214, 215, 215],\n",
       "        [216, 217, 216],\n",
       "        [217, 218, 218]]], dtype=uint8)"
      ]
     },
     "execution_count": 8,
     "metadata": {},
     "output_type": "execute_result"
    }
   ],
   "source": [
    "eval_env.render()"
   ]
  },
  {
   "cell_type": "code",
   "execution_count": null,
   "metadata": {},
   "outputs": [],
   "source": []
  }
 ],
 "metadata": {
  "kernelspec": {
   "display_name": "MetaWorld",
   "language": "python",
   "name": "python3"
  },
  "language_info": {
   "codemirror_mode": {
    "name": "ipython",
    "version": 3
   },
   "file_extension": ".py",
   "mimetype": "text/x-python",
   "name": "python",
   "nbconvert_exporter": "python",
   "pygments_lexer": "ipython3",
   "version": "3.8.18"
  }
 },
 "nbformat": 4,
 "nbformat_minor": 2
}
